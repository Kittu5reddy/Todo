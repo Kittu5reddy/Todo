{
 "cells": [
  {
   "cell_type": "code",
   "execution_count": 1,
   "id": "6552474b",
   "metadata": {},
   "outputs": [],
   "source": [
    "password=\"python_for_web\""
   ]
  },
  {
   "cell_type": "code",
   "execution_count": 4,
   "id": "366b8379",
   "metadata": {},
   "outputs": [
    {
     "data": {
      "text/plain": [
       "b'$2b$13$3eztUKQohaaz/hVXkHioYuyijOMbwbee9CLKWc0g00mqVXAqa8z0O'"
      ]
     },
     "execution_count": 4,
     "metadata": {},
     "output_type": "execute_result"
    }
   ],
   "source": [
    "import bcrypt\n",
    "hashed_password=bcrypt.hashpw(password.encode(),bcrypt.gensalt(13))\n",
    "hashed_password"
   ]
  },
  {
   "cell_type": "code",
   "execution_count": 7,
   "id": "6a1816bd",
   "metadata": {},
   "outputs": [
    {
     "name": "stdout",
     "output_type": "stream",
     "text": [
      "401\n"
     ]
    }
   ],
   "source": [
    "if bcrypt.checkpw(password.encode(),b'$2b$13$3eztUKQohaaz/hVXkHioYuyijOMbwbecxvbce9CLKWc00mqVXAqa8z0O'):\n",
    "    print(\"200\")\n",
    "else:\n",
    "    print(\"401\")"
   ]
  },
  {
   "cell_type": "code",
   "execution_count": null,
   "id": "6cad2971",
   "metadata": {},
   "outputs": [],
   "source": []
  }
 ],
 "metadata": {
  "kernelspec": {
   "display_name": "base",
   "language": "python",
   "name": "python3"
  },
  "language_info": {
   "codemirror_mode": {
    "name": "ipython",
    "version": 3
   },
   "file_extension": ".py",
   "mimetype": "text/x-python",
   "name": "python",
   "nbconvert_exporter": "python",
   "pygments_lexer": "ipython3",
   "version": "3.12.7"
  }
 },
 "nbformat": 4,
 "nbformat_minor": 5
}
